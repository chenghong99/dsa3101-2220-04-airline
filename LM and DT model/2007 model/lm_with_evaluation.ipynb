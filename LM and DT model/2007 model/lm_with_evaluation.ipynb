{
 "cells": [
  {
   "cell_type": "code",
   "execution_count": 1,
   "id": "b2aa0cbb",
   "metadata": {},
   "outputs": [],
   "source": [
    "import pandas as pd\n",
    "import numpy as np\n",
    "import os\n",
    "import glob\n",
    "import chardet\n",
    "import joblib\n",
    "from matplotlib import pyplot as plt\n",
    "from sklearn.linear_model import LinearRegression\n",
    "from sklearn.tree import DecisionTreeClassifier\n",
    "from sklearn.model_selection import train_test_split\n",
    "from sklearn import preprocessing\n",
    "\n",
    "import statsmodels.api as sm"
   ]
  },
  {
   "cell_type": "code",
   "execution_count": 2,
   "id": "69d970a5",
   "metadata": {},
   "outputs": [],
   "source": [
    "data_2007 = pd.read_csv(\"2007.csv\", encoding=\"mac_roman\")"
   ]
  },
  {
   "cell_type": "code",
   "execution_count": 3,
   "id": "d165ed47",
   "metadata": {},
   "outputs": [],
   "source": [
    "## Function to group time\n",
    "def bin_time(crs_time):\n",
    "    if crs_time == 2400:\n",
    "        return 3\n",
    "    return crs_time // 600\n",
    "\n",
    "\n",
    "## Functin to get season based on month \n",
    "def get_season(month):\n",
    "    season_dict = {(1,2,3): 'spring', (4,5,6): 'summer', (7,8,9): 'autumn', (10,11,12): 'winter'}\n",
    "    for key, val in season_dict.items():\n",
    "        if month in key:\n",
    "            return val"
   ]
  },
  {
   "cell_type": "code",
   "execution_count": 4,
   "id": "d1fa6a09",
   "metadata": {},
   "outputs": [],
   "source": [
    "## Data preprocessing \n",
    "data_2007['SEASON'] = data_2007['MONTH'].apply(get_season)\n",
    "data_2007['CRS_DEP_BIN'] = data_2007['CRS_DEP_TIME'].apply(bin_time)   \n",
    "## Definition of delay is more than 60 mins\n",
    "data_2007['HAS_DEP_DELAY'] = data_2007['DEP_DELAY_GROUP'].apply(lambda x: 1 if x > 3 else 0)\n",
    "\n",
    "## Select columns \n",
    "variables = ['DAY_OF_WEEK', 'SEASON', 'DISTANCE', 'CRS_DEP_BIN', 'PRCP_ORIGIN', 'SNOW_ORIGIN', \n",
    "                        'SNWD_ORIGIN', 'TMAX_ORIGIN', 'TMIN_ORIGIN', 'HAS_DEP_DELAY', 'DEP_DELAY']\n",
    "data_2007 = data_2007[variables]\n",
    "data_2007 = data_2007.dropna()"
   ]
  },
  {
   "cell_type": "code",
   "execution_count": 12,
   "id": "3b808cc6",
   "metadata": {},
   "outputs": [],
   "source": [
    "variables_lm = ['DEP_DELAY', 'DAY_OF_WEEK', 'SEASON', 'DISTANCE', 'CRS_DEP_BIN', \n",
    "               'PRCP_ORIGIN', 'SNOW_ORIGIN', 'SNWD_ORIGIN', 'TMAX_ORIGIN', 'TMIN_ORIGIN']\n",
    "lm_data = data_2007[variables_lm]\n",
    "lm_data = pd.get_dummies(lm_data, columns = ['DAY_OF_WEEK', 'CRS_DEP_BIN', 'SEASON'])\n",
    "\n",
    "X_data_lm = lm_data.iloc[:, 1:]\n",
    "y_data_lm = lm_data.iloc[: , 0]\n",
    "\n",
    "X_lm_data = preprocessing.normalize(X_data_lm)"
   ]
  },
  {
   "cell_type": "code",
   "execution_count": 13,
   "id": "594e2cd7",
   "metadata": {},
   "outputs": [
    {
     "data": {
      "text/html": [
       "<style>#sk-container-id-3 {color: black;background-color: white;}#sk-container-id-3 pre{padding: 0;}#sk-container-id-3 div.sk-toggleable {background-color: white;}#sk-container-id-3 label.sk-toggleable__label {cursor: pointer;display: block;width: 100%;margin-bottom: 0;padding: 0.3em;box-sizing: border-box;text-align: center;}#sk-container-id-3 label.sk-toggleable__label-arrow:before {content: \"▸\";float: left;margin-right: 0.25em;color: #696969;}#sk-container-id-3 label.sk-toggleable__label-arrow:hover:before {color: black;}#sk-container-id-3 div.sk-estimator:hover label.sk-toggleable__label-arrow:before {color: black;}#sk-container-id-3 div.sk-toggleable__content {max-height: 0;max-width: 0;overflow: hidden;text-align: left;background-color: #f0f8ff;}#sk-container-id-3 div.sk-toggleable__content pre {margin: 0.2em;color: black;border-radius: 0.25em;background-color: #f0f8ff;}#sk-container-id-3 input.sk-toggleable__control:checked~div.sk-toggleable__content {max-height: 200px;max-width: 100%;overflow: auto;}#sk-container-id-3 input.sk-toggleable__control:checked~label.sk-toggleable__label-arrow:before {content: \"▾\";}#sk-container-id-3 div.sk-estimator input.sk-toggleable__control:checked~label.sk-toggleable__label {background-color: #d4ebff;}#sk-container-id-3 div.sk-label input.sk-toggleable__control:checked~label.sk-toggleable__label {background-color: #d4ebff;}#sk-container-id-3 input.sk-hidden--visually {border: 0;clip: rect(1px 1px 1px 1px);clip: rect(1px, 1px, 1px, 1px);height: 1px;margin: -1px;overflow: hidden;padding: 0;position: absolute;width: 1px;}#sk-container-id-3 div.sk-estimator {font-family: monospace;background-color: #f0f8ff;border: 1px dotted black;border-radius: 0.25em;box-sizing: border-box;margin-bottom: 0.5em;}#sk-container-id-3 div.sk-estimator:hover {background-color: #d4ebff;}#sk-container-id-3 div.sk-parallel-item::after {content: \"\";width: 100%;border-bottom: 1px solid gray;flex-grow: 1;}#sk-container-id-3 div.sk-label:hover label.sk-toggleable__label {background-color: #d4ebff;}#sk-container-id-3 div.sk-serial::before {content: \"\";position: absolute;border-left: 1px solid gray;box-sizing: border-box;top: 0;bottom: 0;left: 50%;z-index: 0;}#sk-container-id-3 div.sk-serial {display: flex;flex-direction: column;align-items: center;background-color: white;padding-right: 0.2em;padding-left: 0.2em;position: relative;}#sk-container-id-3 div.sk-item {position: relative;z-index: 1;}#sk-container-id-3 div.sk-parallel {display: flex;align-items: stretch;justify-content: center;background-color: white;position: relative;}#sk-container-id-3 div.sk-item::before, #sk-container-id-3 div.sk-parallel-item::before {content: \"\";position: absolute;border-left: 1px solid gray;box-sizing: border-box;top: 0;bottom: 0;left: 50%;z-index: -1;}#sk-container-id-3 div.sk-parallel-item {display: flex;flex-direction: column;z-index: 1;position: relative;background-color: white;}#sk-container-id-3 div.sk-parallel-item:first-child::after {align-self: flex-end;width: 50%;}#sk-container-id-3 div.sk-parallel-item:last-child::after {align-self: flex-start;width: 50%;}#sk-container-id-3 div.sk-parallel-item:only-child::after {width: 0;}#sk-container-id-3 div.sk-dashed-wrapped {border: 1px dashed gray;margin: 0 0.4em 0.5em 0.4em;box-sizing: border-box;padding-bottom: 0.4em;background-color: white;}#sk-container-id-3 div.sk-label label {font-family: monospace;font-weight: bold;display: inline-block;line-height: 1.2em;}#sk-container-id-3 div.sk-label-container {text-align: center;}#sk-container-id-3 div.sk-container {/* jupyter's `normalize.less` sets `[hidden] { display: none; }` but bootstrap.min.css set `[hidden] { display: none !important; }` so we also need the `!important` here to be able to override the default hidden behavior on the sphinx rendered scikit-learn.org. See: https://github.com/scikit-learn/scikit-learn/issues/21755 */display: inline-block !important;position: relative;}#sk-container-id-3 div.sk-text-repr-fallback {display: none;}</style><div id=\"sk-container-id-3\" class=\"sk-top-container\"><div class=\"sk-text-repr-fallback\"><pre>LinearRegression()</pre><b>In a Jupyter environment, please rerun this cell to show the HTML representation or trust the notebook. <br />On GitHub, the HTML representation is unable to render, please try loading this page with nbviewer.org.</b></div><div class=\"sk-container\" hidden><div class=\"sk-item\"><div class=\"sk-estimator sk-toggleable\"><input class=\"sk-toggleable__control sk-hidden--visually\" id=\"sk-estimator-id-3\" type=\"checkbox\" checked><label for=\"sk-estimator-id-3\" class=\"sk-toggleable__label sk-toggleable__label-arrow\">LinearRegression</label><div class=\"sk-toggleable__content\"><pre>LinearRegression()</pre></div></div></div></div></div>"
      ],
      "text/plain": [
       "LinearRegression()"
      ]
     },
     "execution_count": 13,
     "metadata": {},
     "output_type": "execute_result"
    }
   ],
   "source": [
    "lm = LinearRegression()\n",
    "lm.fit(X_data_lm, y_data_lm)"
   ]
  },
  {
   "cell_type": "code",
   "execution_count": 14,
   "id": "0ef55721",
   "metadata": {},
   "outputs": [
    {
     "name": "stderr",
     "output_type": "stream",
     "text": [
      "C:\\Users\\ryfer\\anaconda3\\lib\\site-packages\\statsmodels\\tsa\\tsatools.py:142: FutureWarning: In a future version of pandas all arguments of concat except for the argument 'objs' will be keyword-only\n",
      "  x = pd.concat(x[::order], 1)\n"
     ]
    },
    {
     "name": "stdout",
     "output_type": "stream",
     "text": [
      "                            OLS Regression Results                            \n",
      "==============================================================================\n",
      "Dep. Variable:              DEP_DELAY   R-squared:                       0.041\n",
      "Model:                            OLS   Adj. R-squared:                  0.041\n",
      "Method:                 Least Squares   F-statistic:                 1.651e+04\n",
      "Date:                Sun, 09 Apr 2023   Prob (F-statistic):               0.00\n",
      "Time:                        01:45:17   Log-Likelihood:            -3.4978e+07\n",
      "No. Observations:             7018845   AIC:                         6.996e+07\n",
      "Df Residuals:                 7018826   BIC:                         6.996e+07\n",
      "Df Model:                          18                                         \n",
      "Covariance Type:            nonrobust                                         \n",
      "=================================================================================\n",
      "                    coef    std err          t      P>|t|      [0.025      0.975]\n",
      "---------------------------------------------------------------------------------\n",
      "const         -5.879e+08   1.89e+09     -0.312      0.755   -4.28e+09    3.11e+09\n",
      "DISTANCE          0.0013   2.55e-05     51.153      0.000       0.001       0.001\n",
      "PRCP_ORIGIN       0.6165      0.003    179.118      0.000       0.610       0.623\n",
      "SNOW_ORIGIN       0.2093      0.002     93.971      0.000       0.205       0.214\n",
      "SNWD_ORIGIN       0.0267      0.000     62.899      0.000       0.026       0.028\n",
      "TMAX_ORIGIN      -4.1866      0.041   -101.798      0.000      -4.267      -4.106\n",
      "TMIN_ORIGIN       5.2254      0.045    117.018      0.000       5.138       5.313\n",
      "DAY_OF_WEEK_1 -2.002e+08   6.42e+08     -0.312      0.755   -1.46e+09    1.06e+09\n",
      "DAY_OF_WEEK_2 -2.002e+08   6.42e+08     -0.312      0.755   -1.46e+09    1.06e+09\n",
      "DAY_OF_WEEK_3 -2.002e+08   6.42e+08     -0.312      0.755   -1.46e+09    1.06e+09\n",
      "DAY_OF_WEEK_4 -2.002e+08   6.42e+08     -0.312      0.755   -1.46e+09    1.06e+09\n",
      "DAY_OF_WEEK_5 -2.002e+08   6.42e+08     -0.312      0.755   -1.46e+09    1.06e+09\n",
      "DAY_OF_WEEK_6 -2.002e+08   6.42e+08     -0.312      0.755   -1.46e+09    1.06e+09\n",
      "DAY_OF_WEEK_7 -2.002e+08   6.42e+08     -0.312      0.755   -1.46e+09    1.06e+09\n",
      "CRS_DEP_BIN_0   3.39e+08   1.09e+09      0.312      0.755   -1.79e+09    2.47e+09\n",
      "CRS_DEP_BIN_1   3.39e+08   1.09e+09      0.312      0.755   -1.79e+09    2.47e+09\n",
      "CRS_DEP_BIN_2   3.39e+08   1.09e+09      0.312      0.755   -1.79e+09    2.47e+09\n",
      "CRS_DEP_BIN_3   3.39e+08   1.09e+09      0.312      0.755   -1.79e+09    2.47e+09\n",
      "SEASON_autumn  4.492e+08   1.44e+09      0.312      0.755   -2.38e+09    3.27e+09\n",
      "SEASON_spring  4.492e+08   1.44e+09      0.312      0.755   -2.38e+09    3.27e+09\n",
      "SEASON_summer  4.492e+08   1.44e+09      0.312      0.755   -2.38e+09    3.27e+09\n",
      "SEASON_winter  4.492e+08   1.44e+09      0.312      0.755   -2.38e+09    3.27e+09\n",
      "==============================================================================\n",
      "Omnibus:                  8574810.882   Durbin-Watson:                   1.701\n",
      "Prob(Omnibus):                  0.000   Jarque-Bera (JB):       2721224443.056\n",
      "Skew:                           6.317   Prob(JB):                         0.00\n",
      "Kurtosis:                      98.631   Cond. No.                     9.76e+16\n",
      "==============================================================================\n",
      "\n",
      "Notes:\n",
      "[1] Standard Errors assume that the covariance matrix of the errors is correctly specified.\n",
      "[2] The smallest eigenvalue is 5.68e-22. This might indicate that there are\n",
      "strong multicollinearity problems or that the design matrix is singular.\n"
     ]
    }
   ],
   "source": [
    "# add a constant to the feature matrix to fit an intercept term\n",
    "X = sm.add_constant(X_data_lm)\n",
    "\n",
    "# fit the same linear regression model using statsmodels\n",
    "sm_lm = sm.OLS(y_data_lm, X).fit()\n",
    "\n",
    "# print the summary statistics to view the p-values and R-squared value\n",
    "print(sm_lm.summary())"
   ]
  }
 ],
 "metadata": {
  "kernelspec": {
   "display_name": "Python 3 (ipykernel)",
   "language": "python",
   "name": "python3"
  },
  "language_info": {
   "codemirror_mode": {
    "name": "ipython",
    "version": 3
   },
   "file_extension": ".py",
   "mimetype": "text/x-python",
   "name": "python",
   "nbconvert_exporter": "python",
   "pygments_lexer": "ipython3",
   "version": "3.9.7"
  }
 },
 "nbformat": 4,
 "nbformat_minor": 5
}
