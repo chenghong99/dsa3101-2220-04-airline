{
 "cells": [
  {
   "cell_type": "code",
   "execution_count": 1,
   "id": "54a0e14e",
   "metadata": {},
   "outputs": [],
   "source": [
    "import numpy as np\n",
    "import pandas as pd\n",
    "import glob"
   ]
  },
  {
   "cell_type": "code",
   "execution_count": 3,
   "id": "377fa4fc",
   "metadata": {
    "scrolled": false
   },
   "outputs": [],
   "source": [
    "df = pd.read_csv(\"airOT201201.csv\")"
   ]
  },
  {
   "cell_type": "code",
   "execution_count": 4,
   "id": "e190b32a",
   "metadata": {},
   "outputs": [
    {
     "data": {
      "text/html": [
       "<div>\n",
       "<style scoped>\n",
       "    .dataframe tbody tr th:only-of-type {\n",
       "        vertical-align: middle;\n",
       "    }\n",
       "\n",
       "    .dataframe tbody tr th {\n",
       "        vertical-align: top;\n",
       "    }\n",
       "\n",
       "    .dataframe thead th {\n",
       "        text-align: right;\n",
       "    }\n",
       "</style>\n",
       "<table border=\"1\" class=\"dataframe\">\n",
       "  <thead>\n",
       "    <tr style=\"text-align: right;\">\n",
       "      <th></th>\n",
       "      <th>total_flights</th>\n",
       "    </tr>\n",
       "    <tr>\n",
       "      <th>ORIGIN</th>\n",
       "      <th></th>\n",
       "    </tr>\n",
       "  </thead>\n",
       "  <tbody>\n",
       "    <tr>\n",
       "      <th>ATL</th>\n",
       "      <td>1013.658312</td>\n",
       "    </tr>\n",
       "    <tr>\n",
       "      <th>ORD</th>\n",
       "      <td>783.809319</td>\n",
       "    </tr>\n",
       "    <tr>\n",
       "      <th>DFW</th>\n",
       "      <td>674.107292</td>\n",
       "    </tr>\n",
       "    <tr>\n",
       "      <th>DEN</th>\n",
       "      <td>614.961435</td>\n",
       "    </tr>\n",
       "    <tr>\n",
       "      <th>LAX</th>\n",
       "      <td>572.244168</td>\n",
       "    </tr>\n",
       "    <tr>\n",
       "      <th>PHX</th>\n",
       "      <td>495.236402</td>\n",
       "    </tr>\n",
       "    <tr>\n",
       "      <th>IAH</th>\n",
       "      <td>439.359172</td>\n",
       "    </tr>\n",
       "    <tr>\n",
       "      <th>SFO</th>\n",
       "      <td>421.574128</td>\n",
       "    </tr>\n",
       "    <tr>\n",
       "      <th>LAS</th>\n",
       "      <td>362.819754</td>\n",
       "    </tr>\n",
       "    <tr>\n",
       "      <th>CLT</th>\n",
       "      <td>356.143612</td>\n",
       "    </tr>\n",
       "  </tbody>\n",
       "</table>\n",
       "</div>"
      ],
      "text/plain": [
       "        total_flights\n",
       "ORIGIN               \n",
       "ATL       1013.658312\n",
       "ORD        783.809319\n",
       "DFW        674.107292\n",
       "DEN        614.961435\n",
       "LAX        572.244168\n",
       "PHX        495.236402\n",
       "IAH        439.359172\n",
       "SFO        421.574128\n",
       "LAS        362.819754\n",
       "CLT        356.143612"
      ]
     },
     "execution_count": 4,
     "metadata": {},
     "output_type": "execute_result"
    }
   ],
   "source": [
    "#look at origins only, determine most busy airports\n",
    "or_col = [\"ORIGIN\", \"MONTH\", \"DAY_OF_MONTH\", \"DAY_OF_WEEK\", \"DEP_DELAY\"]\n",
    "origins = df[or_col]\n",
    "origins = origins.dropna()\n",
    "\n",
    "origins['total_flights'] = origins.groupby([\"ORIGIN\", \"MONTH\", \"DAY_OF_MONTH\", \"DAY_OF_WEEK\"]).transform(\"count\")\n",
    "\n",
    "origins[[\"ORIGIN\",\"total_flights\"]].groupby(\"ORIGIN\").mean(\"total_flights\").sort_values(\"total_flights\" , ascending = False).head(10)"
   ]
  },
  {
   "cell_type": "code",
   "execution_count": 5,
   "id": "6c2b1fbd",
   "metadata": {},
   "outputs": [],
   "source": [
    "airports = [\"ATL\", \"ORD\", \"DFW\", \"DEN\", \"LAX\", \"PHX\", \"IAH\", \"SFO\", \"LAS\", \"CLT\"]\n",
    "both_col = [\"ORIGIN\", \"MONTH\", \"DAY_OF_MONTH\", \"DAY_OF_WEEK\", \"DEP_DELAY\", \"DEST\", \"ARR_DELAY\"]\n",
    "dep_col = [\"ORIGIN\", \"MONTH\", \"DAY_OF_MONTH\", \"DAY_OF_WEEK\", \"DEP_DELAY\", \"DEST\"]\n",
    "deps = df[dep_col]\n",
    "deps = deps.dropna()\n",
    "deps = deps[deps.ORIGIN.isin(airports) & deps.DEST.isin(airports)] #only between top 10 airports\n",
    "deps['total_flights'] = deps.groupby([\"ORIGIN\", \"MONTH\", \"DAY_OF_MONTH\", \"DAY_OF_WEEK\", \"DEST\"]).transform(\"count\")\n",
    "\n",
    "#deps.query(\"MONTH == 1 and DAY_OF_MONTH == 1 and ORIGIN == 'JFK' and DEST == 'LAX'\")"
   ]
  }
 ],
 "metadata": {
  "kernelspec": {
   "display_name": "Python 3 (ipykernel)",
   "language": "python",
   "name": "python3"
  },
  "language_info": {
   "codemirror_mode": {
    "name": "ipython",
    "version": 3
   },
   "file_extension": ".py",
   "mimetype": "text/x-python",
   "name": "python",
   "nbconvert_exporter": "python",
   "pygments_lexer": "ipython3",
   "version": "3.9.7"
  }
 },
 "nbformat": 4,
 "nbformat_minor": 5
}
