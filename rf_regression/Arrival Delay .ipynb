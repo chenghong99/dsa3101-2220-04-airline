{
 "cells": [
  {
   "cell_type": "code",
   "execution_count": 1,
   "id": "85344846",
   "metadata": {},
   "outputs": [],
   "source": [
    "import pandas as pd\n",
    "import numpy as np\n",
    "import os\n",
    "import glob\n",
    "import chardet\n",
    "from matplotlib import pyplot as plt\n",
    "from sklearn.ensemble import RandomForestRegressor\n"
   ]
  },
  {
   "cell_type": "code",
   "execution_count": 2,
   "id": "10a68e37",
   "metadata": {},
   "outputs": [],
   "source": [
    "curr_path = 'C:/Users/cheng/Desktop/DSA3101/DSA3101_project/AirOnTimeCSV_cleaned/'\n",
    "def get_encoding(file):\n",
    "    with open(file, 'rb') as f:\n",
    "        content = f.read(1000000)\n",
    "    result = chardet.detect(content)\n",
    "    return result['encoding']"
   ]
  },
  {
   "cell_type": "code",
   "execution_count": 3,
   "id": "bca24fdd",
   "metadata": {},
   "outputs": [],
   "source": [
    "## Group year by year (2001) split to buckets  \n",
    "csv_files = [os.path.normpath(i) for i in glob.glob(curr_path + \"airOT2001*\")]\n",
    "\n",
    "f = os.path.normpath(csv_files[0])\n",
    "column_names = pd.read_csv(f, encoding=\"mac_roman\").columns\n",
    "data_2001_bins = [pd.DataFrame(columns=column_names) for i in range(15)]\n",
    "data_2001_total = pd.DataFrame(columns=column_names)\n",
    "for f in csv_files:\n",
    "    f = os.path.normpath(f)\n",
    "    data = pd.read_csv(f)\n",
    "    data_2001_total = pd.concat([data_2001_total, data])\n",
    "    for i in range(-2,13):\n",
    "        convert = float(i)\n",
    "        data_2001_bins[i] = pd.concat([data_2001_bins[i], data[data['ARR_DELAY_GROUP'] == convert]])"
   ]
  },
  {
   "cell_type": "code",
   "execution_count": 4,
   "id": "84a7c5c8",
   "metadata": {},
   "outputs": [
    {
     "data": {
      "text/plain": [
       "(5967780, 44)"
      ]
     },
     "execution_count": 4,
     "metadata": {},
     "output_type": "execute_result"
    }
   ],
   "source": [
    "data_2001_total.shape"
   ]
  },
  {
   "cell_type": "code",
   "execution_count": null,
   "id": "633ec11e",
   "metadata": {},
   "outputs": [],
   "source": [
    "## Variables of interest \n",
    "## Day of Week \n",
    "## Origin State/ Dest State\n",
    "## CRS dep time/ CRS arr time \n",
    "## distance \n",
    "## seasons "
   ]
  },
  {
   "cell_type": "code",
   "execution_count": 5,
   "id": "ccb53d54",
   "metadata": {},
   "outputs": [],
   "source": [
    "data_2001_total = data_2001_total[['DAY_OF_WEEK', 'CRS_DEP_TIME', 'CRS_ARR_TIME', 'ORIGIN_STATE_ABR', 'DEST_STATE_ABR', 'DISTANCE',\n",
    "                                     'DISTANCE_GROUP', 'ARR_DELAY_GROUP']]\n",
    "data_2001_total['CRS_ARR_TIME_GROUP'] = data_2001_total['CRS_ARR_TIME']//100\n",
    "data_2001_total['DELAY'] = data_2001_total['ARR_DELAY_GROUP'].apply(lambda x: 1 if x > 3 else 0)\n",
    "data_2001_total = data_2001_total.sample(n = 500000)"
   ]
  },
  {
   "cell_type": "code",
   "execution_count": 6,
   "id": "d6957aaf",
   "metadata": {},
   "outputs": [
    {
     "name": "stderr",
     "output_type": "stream",
     "text": [
      "c:\\users\\cheng\\appdata\\local\\programs\\python\\python38\\lib\\site-packages\\pandas\\core\\algorithms.py:798: FutureWarning: In a future version, the Index constructor will not infer numeric dtypes when passed object-dtype sequences (matching Series behavior)\n",
      "  uniques = Index(uniques)\n"
     ]
    }
   ],
   "source": [
    "X = pd.get_dummies(data_2001_total[['DAY_OF_WEEK', 'ORIGIN_STATE_ABR', 'DISTANCE_GROUP']])\n",
    "y = data_2001_total['DELAY']"
   ]
  },
  {
   "cell_type": "code",
   "execution_count": 7,
   "id": "876f166f",
   "metadata": {},
   "outputs": [
    {
     "data": {
      "text/html": [
       "<style>#sk-container-id-1 {color: black;background-color: white;}#sk-container-id-1 pre{padding: 0;}#sk-container-id-1 div.sk-toggleable {background-color: white;}#sk-container-id-1 label.sk-toggleable__label {cursor: pointer;display: block;width: 100%;margin-bottom: 0;padding: 0.3em;box-sizing: border-box;text-align: center;}#sk-container-id-1 label.sk-toggleable__label-arrow:before {content: \"▸\";float: left;margin-right: 0.25em;color: #696969;}#sk-container-id-1 label.sk-toggleable__label-arrow:hover:before {color: black;}#sk-container-id-1 div.sk-estimator:hover label.sk-toggleable__label-arrow:before {color: black;}#sk-container-id-1 div.sk-toggleable__content {max-height: 0;max-width: 0;overflow: hidden;text-align: left;background-color: #f0f8ff;}#sk-container-id-1 div.sk-toggleable__content pre {margin: 0.2em;color: black;border-radius: 0.25em;background-color: #f0f8ff;}#sk-container-id-1 input.sk-toggleable__control:checked~div.sk-toggleable__content {max-height: 200px;max-width: 100%;overflow: auto;}#sk-container-id-1 input.sk-toggleable__control:checked~label.sk-toggleable__label-arrow:before {content: \"▾\";}#sk-container-id-1 div.sk-estimator input.sk-toggleable__control:checked~label.sk-toggleable__label {background-color: #d4ebff;}#sk-container-id-1 div.sk-label input.sk-toggleable__control:checked~label.sk-toggleable__label {background-color: #d4ebff;}#sk-container-id-1 input.sk-hidden--visually {border: 0;clip: rect(1px 1px 1px 1px);clip: rect(1px, 1px, 1px, 1px);height: 1px;margin: -1px;overflow: hidden;padding: 0;position: absolute;width: 1px;}#sk-container-id-1 div.sk-estimator {font-family: monospace;background-color: #f0f8ff;border: 1px dotted black;border-radius: 0.25em;box-sizing: border-box;margin-bottom: 0.5em;}#sk-container-id-1 div.sk-estimator:hover {background-color: #d4ebff;}#sk-container-id-1 div.sk-parallel-item::after {content: \"\";width: 100%;border-bottom: 1px solid gray;flex-grow: 1;}#sk-container-id-1 div.sk-label:hover label.sk-toggleable__label {background-color: #d4ebff;}#sk-container-id-1 div.sk-serial::before {content: \"\";position: absolute;border-left: 1px solid gray;box-sizing: border-box;top: 0;bottom: 0;left: 50%;z-index: 0;}#sk-container-id-1 div.sk-serial {display: flex;flex-direction: column;align-items: center;background-color: white;padding-right: 0.2em;padding-left: 0.2em;position: relative;}#sk-container-id-1 div.sk-item {position: relative;z-index: 1;}#sk-container-id-1 div.sk-parallel {display: flex;align-items: stretch;justify-content: center;background-color: white;position: relative;}#sk-container-id-1 div.sk-item::before, #sk-container-id-1 div.sk-parallel-item::before {content: \"\";position: absolute;border-left: 1px solid gray;box-sizing: border-box;top: 0;bottom: 0;left: 50%;z-index: -1;}#sk-container-id-1 div.sk-parallel-item {display: flex;flex-direction: column;z-index: 1;position: relative;background-color: white;}#sk-container-id-1 div.sk-parallel-item:first-child::after {align-self: flex-end;width: 50%;}#sk-container-id-1 div.sk-parallel-item:last-child::after {align-self: flex-start;width: 50%;}#sk-container-id-1 div.sk-parallel-item:only-child::after {width: 0;}#sk-container-id-1 div.sk-dashed-wrapped {border: 1px dashed gray;margin: 0 0.4em 0.5em 0.4em;box-sizing: border-box;padding-bottom: 0.4em;background-color: white;}#sk-container-id-1 div.sk-label label {font-family: monospace;font-weight: bold;display: inline-block;line-height: 1.2em;}#sk-container-id-1 div.sk-label-container {text-align: center;}#sk-container-id-1 div.sk-container {/* jupyter's `normalize.less` sets `[hidden] { display: none; }` but bootstrap.min.css set `[hidden] { display: none !important; }` so we also need the `!important` here to be able to override the default hidden behavior on the sphinx rendered scikit-learn.org. See: https://github.com/scikit-learn/scikit-learn/issues/21755 */display: inline-block !important;position: relative;}#sk-container-id-1 div.sk-text-repr-fallback {display: none;}</style><div id=\"sk-container-id-1\" class=\"sk-top-container\"><div class=\"sk-text-repr-fallback\"><pre>RandomForestRegressor(max_depth=2, random_state=0)</pre><b>In a Jupyter environment, please rerun this cell to show the HTML representation or trust the notebook. <br />On GitHub, the HTML representation is unable to render, please try loading this page with nbviewer.org.</b></div><div class=\"sk-container\" hidden><div class=\"sk-item\"><div class=\"sk-estimator sk-toggleable\"><input class=\"sk-toggleable__control sk-hidden--visually\" id=\"sk-estimator-id-1\" type=\"checkbox\" checked><label for=\"sk-estimator-id-1\" class=\"sk-toggleable__label sk-toggleable__label-arrow\">RandomForestRegressor</label><div class=\"sk-toggleable__content\"><pre>RandomForestRegressor(max_depth=2, random_state=0)</pre></div></div></div></div></div>"
      ],
      "text/plain": [
       "RandomForestRegressor(max_depth=2, random_state=0)"
      ]
     },
     "execution_count": 7,
     "metadata": {},
     "output_type": "execute_result"
    }
   ],
   "source": [
    "regr = RandomForestRegressor(max_depth=2, random_state=0)\n",
    "regr.fit(X, y)"
   ]
  },
  {
   "cell_type": "code",
   "execution_count": 8,
   "id": "79fb0a55",
   "metadata": {},
   "outputs": [],
   "source": [
    "feature_importance = regr.feature_importances_"
   ]
  },
  {
   "cell_type": "code",
   "execution_count": 9,
   "id": "50623276",
   "metadata": {},
   "outputs": [],
   "source": [
    "day_of_week_importance = 0\n",
    "week = []\n",
    "value_per_day = []\n",
    "for i in range(7):\n",
    "    day_of_week_importance += feature_importance[i]\n",
    "    week.append(i + 1)\n",
    "    value_per_day.append(feature_importance[i])\n"
   ]
  },
  {
   "cell_type": "code",
   "execution_count": 10,
   "id": "def23565",
   "metadata": {},
   "outputs": [],
   "source": [
    "State_importance = 0\n",
    "All_states = data_2001_total['ORIGIN_STATE_ABR'].unique()\n",
    "All_states.sort()\n",
    "value_per_state = []\n",
    "for i in range(7,58):\n",
    "    State_importance += feature_importance[i]\n",
    "    value_per_state.append(feature_importance[i])\n"
   ]
  },
  {
   "cell_type": "code",
   "execution_count": 11,
   "id": "38550c62",
   "metadata": {},
   "outputs": [],
   "source": [
    "distance_importance = 0\n",
    "distance_bin = [i for i in range(1,12)]\n",
    "bin_value = []\n",
    "for i in range(58,69):\n",
    "    distance_importance += feature_importance[i]\n",
    "    bin_value.append(feature_importance[i])"
   ]
  },
  {
   "cell_type": "code",
   "execution_count": 12,
   "id": "3a7a6b11",
   "metadata": {},
   "outputs": [
    {
     "data": {
      "text/plain": [
       "<BarContainer object of 3 artists>"
      ]
     },
     "execution_count": 12,
     "metadata": {},
     "output_type": "execute_result"
    },
    {
     "data": {
      "image/png": "[encoded data removed]",
      "text/plain": [
       "<Figure size 432x288 with 1 Axes>"
      ]
     },
     "metadata": {
      "needs_background": "light"
     },
     "output_type": "display_data"
    }
   ],
   "source": [
    "name = ['day_of_week', 'state', 'distance']\n",
    "overall = [day_of_week_importance, State_importance, distance_importance]\n",
    "plt.barh(name, overall)"
   ]
  },
  {
   "cell_type": "code",
   "execution_count": 13,
   "id": "637068dc",
   "metadata": {},
   "outputs": [
    {
     "data": {
      "text/plain": [
       "<BarContainer object of 7 artists>"
      ]
     },
     "execution_count": 13,
     "metadata": {},
     "output_type": "execute_result"
    },
    {
     "data": {
      "image/png": "[encoded data removed]",
      "text/plain": [
       "<Figure size 432x288 with 1 Axes>"
      ]
     },
     "metadata": {
      "needs_background": "light"
     },
     "output_type": "display_data"
    }
   ],
   "source": [
    "## Plot by day of week \n",
    "plt.barh(week, value_per_day)"
   ]
  },
  {
   "cell_type": "code",
   "execution_count": 14,
   "id": "bc1ad280",
   "metadata": {},
   "outputs": [
    {
     "data": {
      "text/plain": [
       "<BarContainer object of 51 artists>"
      ]
     },
     "execution_count": 14,
     "metadata": {},
     "output_type": "execute_result"
    },
    {
     "data": {
      "image/png": "[encoded data removed]",
      "text/plain": [
       "<Figure size 432x288 with 1 Axes>"
      ]
     },
     "metadata": {
      "needs_background": "light"
     },
     "output_type": "display_data"
    }
   ],
   "source": [
    "## Plot by state\n",
    "plt.barh(All_states, value_per_state)"
   ]
  },
  {
   "cell_type": "code",
   "execution_count": 15,
   "id": "68ca8617",
   "metadata": {},
   "outputs": [
    {
     "data": {
      "text/plain": [
       "<BarContainer object of 11 artists>"
      ]
     },
     "execution_count": 15,
     "metadata": {},
     "output_type": "execute_result"
    },
    {
     "data": {
      "image/png": "[encoded data removed]",
      "text/plain": [
       "<Figure size 432x288 with 1 Axes>"
      ]
     },
     "metadata": {
      "needs_background": "light"
     },
     "output_type": "display_data"
    }
   ],
   "source": [
    "## Plot by distance \n",
    "plt.barh(distance_bin, bin_value)"
   ]
  }
 ],
 "metadata": {
  "kernelspec": {
   "display_name": "Python 3 (ipykernel)",
   "language": "python",
   "name": "python3"
  },
  "language_info": {
   "codemirror_mode": {
    "name": "ipython",
    "version": 3
   },
   "file_extension": ".py",
   "mimetype": "text/x-python",
   "name": "python",
   "nbconvert_exporter": "python",
   "pygments_lexer": "ipython3",
   "version": "3.8.7"
  }
 },
 "nbformat": 4,
 "nbformat_minor": 5
}
